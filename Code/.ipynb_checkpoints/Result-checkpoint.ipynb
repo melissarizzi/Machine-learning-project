{
 "cells": [
  {
   "cell_type": "markdown",
   "id": "baaf4b5e-3669-4031-a989-3a5d8d558f49",
   "metadata": {},
   "source": [
    "## Project Results"
   ]
  },
  {
   "cell_type": "code",
   "execution_count": 1,
   "id": "8fe4bc1d-ce37-4245-aac8-ee6f2752ac06",
   "metadata": {},
   "outputs": [],
   "source": [
    "import pandas as pd\n",
    "import numpy as np\n",
    "import matplotlib.pyplot as plt\n",
    "import seaborn as sns\n",
    "from itertools import combinations_with_replacement"
   ]
  },
  {
   "cell_type": "code",
   "execution_count": null,
   "id": "c62c6ece-3977-4e97-8a96-a08f4f8e10ce",
   "metadata": {},
   "outputs": [],
   "source": [
    "path = \"\\\\Users\\\\melis\\\\Desktop\\\\universita\\\\DSE\\\\1 ANNO\\\\3 TRIMESTRE\\\\machine learning\\\\project\\\\your_dataset.csv\""
   ]
  },
  {
   "cell_type": "markdown",
   "id": "3b1683b1-5680-4b0d-a995-28bef3474a95",
   "metadata": {
    "jp-MarkdownHeadingCollapsed": true
   },
   "source": [
    "### Pre-processing steps"
   ]
  },
  {
   "cell_type": "code",
   "execution_count": null,
   "id": "94a18d5f-d83e-4464-a4a8-fffcca70251f",
   "metadata": {},
   "outputs": [],
   "source": [
    "from Project import Preprocessing"
   ]
  },
  {
   "cell_type": "code",
   "execution_count": null,
   "id": "d44964ae-7050-44ac-a13b-3e59f2efc963",
   "metadata": {},
   "outputs": [],
   "source": [
    "pre = Preprocessing(path)"
   ]
  },
  {
   "cell_type": "code",
   "execution_count": null,
   "id": "eb1e6517-3273-467f-b4c4-20287bd14892",
   "metadata": {},
   "outputs": [],
   "source": [
    "pre.check_missing_value()\n",
    "pre.n_missing"
   ]
  },
  {
   "cell_type": "markdown",
   "id": "a8427d5e-7003-4dfb-818e-f812363be557",
   "metadata": {},
   "source": [
    "No missing values were found"
   ]
  },
  {
   "cell_type": "code",
   "execution_count": null,
   "id": "f3ece2fb-42bd-417c-9bd5-2d318e41b6ca",
   "metadata": {},
   "outputs": [],
   "source": [
    "pre.find_outliers()\n",
    "pre.remove_outliers()\n",
    "pre.create_boxplot()"
   ]
  },
  {
   "cell_type": "code",
   "execution_count": null,
   "id": "d3b2bb4a-29a7-49d9-955c-093f3620ba4e",
   "metadata": {},
   "outputs": [],
   "source": [
    "pre.check_correlation()"
   ]
  },
  {
   "cell_type": "code",
   "execution_count": null,
   "id": "7c68bc81-3468-4247-b903-d66079f14283",
   "metadata": {},
   "outputs": [],
   "source": [
    "pre.describe_variables()\n",
    "pre.var_description"
   ]
  },
  {
   "cell_type": "code",
   "execution_count": null,
   "id": "456336b2-07f9-4511-b8c8-47d550e89f64",
   "metadata": {},
   "outputs": [],
   "source": [
    "pre.standardize_df()\n",
    "pre.divide_df()"
   ]
  },
  {
   "cell_type": "markdown",
   "id": "02f32c6c-f8f4-478d-b94f-645bb76c874e",
   "metadata": {},
   "source": [
    "### Perceptron"
   ]
  },
  {
   "cell_type": "code",
   "execution_count": null,
   "id": "c81d7d3d-19cc-4544-b710-c800064ab400",
   "metadata": {},
   "outputs": [],
   "source": [
    "from Project import Perceptron"
   ]
  },
  {
   "cell_type": "code",
   "execution_count": null,
   "id": "1676b8d0-1dd7-4ff6-8475-7aa0e07c8ea9",
   "metadata": {},
   "outputs": [],
   "source": [
    "epochs = [10,100]\n",
    "perceptron = Perceptron(epochs)\n",
    "perceptron.cross_validate(pre.X_train, pre.y_train)"
   ]
  },
  {
   "cell_type": "code",
   "execution_count": null,
   "id": "4f96327c-2a3f-47c8-85b2-22c47fcd9dce",
   "metadata": {},
   "outputs": [],
   "source": [
    "perceptron.compute_test_accuracy(pre.X_train, pre.y_train, pre.X_test, pre.y_test)\n",
    "w_perceptron = perceptron.w"
   ]
  },
  {
   "cell_type": "markdown",
   "id": "aec2dabe-531f-47fe-9907-f71362b96dce",
   "metadata": {},
   "source": [
    "### Pegasos"
   ]
  },
  {
   "cell_type": "code",
   "execution_count": null,
   "id": "4850a951-c767-46b9-852c-61af6a1472a3",
   "metadata": {},
   "outputs": [],
   "source": [
    "from Project import Pegasos"
   ]
  },
  {
   "cell_type": "code",
   "execution_count": null,
   "id": "896e46c3-5265-414e-939e-310fc88da40e",
   "metadata": {},
   "outputs": [],
   "source": [
    "def eta1(t):\n",
    "    return 1 / (0.01 * t)\n",
    "def eta2(t):\n",
    "    return 1 / (0.001 * t)\n",
    "T_values = [10,100]\n",
    "lambd_values = [0.01,0.1,1]\n",
    "eta_functions = [eta1,eta2]"
   ]
  },
  {
   "cell_type": "code",
   "execution_count": null,
   "id": "065ffbf1-b57c-4419-b5c5-d30f9561665d",
   "metadata": {},
   "outputs": [],
   "source": [
    "svm = Pegasos(T_values, lambd_values, eta_functions)"
   ]
  },
  {
   "cell_type": "code",
   "execution_count": null,
   "id": "885fddcb-e6c5-44a8-b657-ee1a1adb8b13",
   "metadata": {},
   "outputs": [],
   "source": [
    "svm.cross_validate(pre.X_train, pre.y_train)"
   ]
  },
  {
   "cell_type": "code",
   "execution_count": null,
   "id": "8dd691a2-46dc-4c3e-bced-e7e0cf6ec887",
   "metadata": {},
   "outputs": [],
   "source": [
    "svm.compute_test_accuracy(pre.X_train, pre.y_train, pre.X_test, pre.y_test)\n",
    "w_pegasos = svm.w"
   ]
  },
  {
   "cell_type": "markdown",
   "id": "74772e43-37ac-4609-b644-ecdeb23a779e",
   "metadata": {
    "jp-MarkdownHeadingCollapsed": true
   },
   "source": [
    "### Logistic"
   ]
  },
  {
   "cell_type": "code",
   "execution_count": null,
   "id": "f8468294-9b65-46a4-80d6-0e6b777a450d",
   "metadata": {},
   "outputs": [],
   "source": [
    "from Project import Logistic "
   ]
  },
  {
   "cell_type": "code",
   "execution_count": null,
   "id": "2cefe64d-9ae7-4313-a8e2-b94c4707c14c",
   "metadata": {},
   "outputs": [],
   "source": [
    "log = Logistic(T_values, lambd_values,eta_functions)\n",
    "log.cross_validate(pre.X_train, pre.y_train)"
   ]
  },
  {
   "cell_type": "code",
   "execution_count": null,
   "id": "ab1b7af4-4dc8-4bd8-8853-0ca3514123f1",
   "metadata": {},
   "outputs": [],
   "source": [
    "log.compute_test_accuracy(pre.X_train, pre.y_train, pre.X_test, pre.y_test)\n",
    "w_logistic = log.w"
   ]
  },
  {
   "cell_type": "markdown",
   "id": "38ff7cae-21e8-4f6c-ab73-d5bdd4f0e797",
   "metadata": {
    "jp-MarkdownHeadingCollapsed": true
   },
   "source": [
    "### Features expansion"
   ]
  },
  {
   "cell_type": "code",
   "execution_count": null,
   "id": "d3a33510-eda8-4e06-9c51-22d1745b7f92",
   "metadata": {},
   "outputs": [],
   "source": [
    "from Project import Feature_expansion"
   ]
  },
  {
   "cell_type": "code",
   "execution_count": null,
   "id": "7d3c00dd-254b-4458-bb2e-8300ea14c81b",
   "metadata": {},
   "outputs": [],
   "source": [
    "expansion = Feature_expansion()"
   ]
  },
  {
   "cell_type": "code",
   "execution_count": null,
   "id": "d443f3a2-f5ce-4c91-968e-495dc56aa5d0",
   "metadata": {},
   "outputs": [],
   "source": [
    "X_poly_add = expansion.polynomial_feature_expansion(pre.X_add)\n",
    "X_poly_val = expansion.polynomial_feature_expansion(pre.X_val)\n",
    "X_poly_train = expansion.polynomial_feature_expansion(pre.X_train)\n",
    "X_poly_test = expansion.polynomial_feature_expansion(pre.X_test)"
   ]
  },
  {
   "cell_type": "code",
   "execution_count": null,
   "id": "e0ebad15-851b-4246-84d6-39f569bf75c6",
   "metadata": {},
   "outputs": [],
   "source": [
    "perceptron.cross_validate(X_poly_train, pre.y_train)\n",
    "perceptron.compute_test_accuracy(X_poly_train, pre.y_train, X_poly_test, pre.y_test)\n",
    "w_poly_perceptron = perceptron.w"
   ]
  },
  {
   "cell_type": "code",
   "execution_count": null,
   "id": "54f75ea0-83cf-4b0a-8d26-97cc16e0aca6",
   "metadata": {},
   "outputs": [],
   "source": [
    "svm.cross_validate(X_poly_train, pre.y_train)\n",
    "svm.compute_test_accuracy(X_poly_train, pre.y_train, X_poly_test, pre.y_test)\n",
    "w_poly_pegasos = svm.w\n",
    "w_poly_pegasos"
   ]
  },
  {
   "cell_type": "code",
   "execution_count": null,
   "id": "f1923be8-80fc-4460-8724-8f8c26f4b4af",
   "metadata": {},
   "outputs": [],
   "source": [
    "log.cross_validate(X_poly_train, pre.y_train)\n",
    "log.compute_test_accuracy(X_poly_train, pre.y_train, X_poly_test, pre.y_test)\n",
    "w_poly_logistic = log.w"
   ]
  },
  {
   "cell_type": "markdown",
   "id": "84c51a96-691d-45da-9cce-57fdd3bbb12a",
   "metadata": {},
   "source": [
    "### Linear weights"
   ]
  },
  {
   "cell_type": "code",
   "execution_count": null,
   "id": "00e570d7-7959-4f23-a8a3-a180931fa2da",
   "metadata": {},
   "outputs": [],
   "source": [
    "from Project import Linear_weight"
   ]
  },
  {
   "cell_type": "code",
   "execution_count": null,
   "id": "67d0f1c2-2d62-42b4-84af-13643300a781",
   "metadata": {},
   "outputs": [],
   "source": [
    "lw = Linear_weight()"
   ]
  },
  {
   "cell_type": "code",
   "execution_count": null,
   "id": "b372b566-802a-45d6-835a-f56a28273348",
   "metadata": {},
   "outputs": [],
   "source": [
    "lw.create_table(w_perceptron, w_pegasos, w_logistic, pre.df_stand)"
   ]
  },
  {
   "cell_type": "code",
   "execution_count": null,
   "id": "509de525-79cd-4473-8391-8bdbba1f7135",
   "metadata": {},
   "outputs": [],
   "source": [
    "lw.df_weights"
   ]
  },
  {
   "cell_type": "code",
   "execution_count": null,
   "id": "a9edf3d7-65eb-44a8-b528-954d33923e2e",
   "metadata": {},
   "outputs": [],
   "source": [
    "lw.create_plot(w_perceptron, w_pegasos, w_logistic)"
   ]
  },
  {
   "cell_type": "code",
   "execution_count": null,
   "id": "0647a62d-7472-49ab-9606-b0cc82da23d4",
   "metadata": {},
   "outputs": [],
   "source": [
    "lw.create_table_poly(w_poly_perceptron,w_poly_pegasos, w_poly_logistic)"
   ]
  },
  {
   "cell_type": "code",
   "execution_count": null,
   "id": "c1b36c4b-5068-4427-8ec2-284f0f862307",
   "metadata": {},
   "outputs": [],
   "source": [
    "lx."
   ]
  },
  {
   "cell_type": "markdown",
   "id": "a78dad16-4306-4972-a091-7a0f686551ea",
   "metadata": {},
   "source": [
    "## Kernel"
   ]
  },
  {
   "cell_type": "code",
   "execution_count": null,
   "id": "71ed832f-7bdd-4863-8701-14d91366ea44",
   "metadata": {},
   "outputs": [],
   "source": [
    "from Project import Kernelized_perceptron"
   ]
  },
  {
   "cell_type": "code",
   "execution_count": null,
   "id": "5bcd64fd-5b12-4302-be86-6e089a23a39b",
   "metadata": {},
   "outputs": [],
   "source": [
    "kp = Kernel_perceptron()"
   ]
  },
  {
   "cell_type": "code",
   "execution_count": null,
   "id": "31920ddf-42b6-4f38-be17-a1030cb3efec",
   "metadata": {},
   "outputs": [],
   "source": [
    "param_gaussian = {'sigmas' : [0.01,0.1, 1]}\n",
    "param_polynomial = {'degrees': [2, 3], 'cs': [0,1]}\n",
    "a = [5,10]"
   ]
  },
  {
   "cell_type": "code",
   "execution_count": null,
   "id": "bf5e87b0-344d-407f-87f1-2e00e50874c4",
   "metadata": {},
   "outputs": [],
   "source": [
    "kp.tune_hyperparameters(pre.X_add, pre.y_add, pre.X_val, pre.y_val, 'gaussian', param_gaussian, a)\n"
   ]
  },
  {
   "cell_type": "code",
   "execution_count": null,
   "id": "b2bb6a99-5ccb-4a55-b219-7cd8e08c666f",
   "metadata": {},
   "outputs": [],
   "source": [
    "kp.compute_accuracy(pre.X_train, pre.y_train, pre.X_test, pre.y_test, 'gaussian')\n"
   ]
  },
  {
   "cell_type": "code",
   "execution_count": null,
   "id": "d9569087-f304-4ea1-85b8-65cb3d068017",
   "metadata": {},
   "outputs": [],
   "source": [
    "kp.tune_hyperparameters(pre.X_add, pre.y_add, pre.X_val, pre.y_val, 'polynomial', param_polynomial, a)"
   ]
  },
  {
   "cell_type": "code",
   "execution_count": null,
   "id": "11cb1ed3-3fc7-448c-8157-4f87925d9e05",
   "metadata": {},
   "outputs": [],
   "source": [
    "kp.compute_accuracy(pre.X_train, pre.y_train, pre.X_test, pre.y_test, 'polynomial')"
   ]
  },
  {
   "cell_type": "code",
   "execution_count": null,
   "id": "73ab4315-93a0-4652-a6b9-56f32f8ae91a",
   "metadata": {},
   "outputs": [],
   "source": [
    "from Project import Kernelized_pegasos"
   ]
  },
  {
   "cell_type": "code",
   "execution_count": null,
   "id": "816dc0b7-2718-416c-9118-1fa01ecf965b",
   "metadata": {},
   "outputs": [],
   "source": [
    "kpeg = Kernelized_pegasos()"
   ]
  },
  {
   "cell_type": "code",
   "execution_count": null,
   "id": "d371ff01-daa1-4def-b436-25cf9e2214a1",
   "metadata": {},
   "outputs": [],
   "source": [
    "T_value = [5,10]\n",
    "lambda_values = [0.01,0.1,1]"
   ]
  },
  {
   "cell_type": "code",
   "execution_count": null,
   "id": "07bffbfd-6846-4101-99fc-e93086798825",
   "metadata": {},
   "outputs": [],
   "source": [
    "kpeg.tune_hyperparameters(pre.X_add, pre.y_add, pre.X_val, pre.y_val,'gaussian', param_gaussian, T_value, lambda_values)"
   ]
  },
  {
   "cell_type": "code",
   "execution_count": null,
   "id": "1a054956-ca2a-4d96-b8f6-b7a07570e994",
   "metadata": {},
   "outputs": [],
   "source": [
    "kpeg.compute_accuracy(pre.X_train, pre.y_train, pre.X_test, pre.y_test, 'gaussian')"
   ]
  },
  {
   "cell_type": "code",
   "execution_count": null,
   "id": "5261d227-d8a9-4e2d-a647-0fe1e0a024ff",
   "metadata": {},
   "outputs": [],
   "source": [
    "kpeg.tune_hyperparameters(pre.X_add, pre.y_add, pre.X_val, pre.y_val,'polynomial', param_polynomial, T_value, lambda_values)"
   ]
  },
  {
   "cell_type": "code",
   "execution_count": null,
   "id": "54e7e72f-ed58-4aba-93a8-449b2296c601",
   "metadata": {},
   "outputs": [],
   "source": [
    "kpeg.compute_accuracy(pre.X_train, pre.y_train, pre.X_test, pre.y_test, 'polynomial')"
   ]
  }
 ],
 "metadata": {
  "kernelspec": {
   "display_name": "Python 3 (ipykernel)",
   "language": "python",
   "name": "python3"
  },
  "language_info": {
   "codemirror_mode": {
    "name": "ipython",
    "version": 3
   },
   "file_extension": ".py",
   "mimetype": "text/x-python",
   "name": "python",
   "nbconvert_exporter": "python",
   "pygments_lexer": "ipython3",
   "version": "3.10.4"
  }
 },
 "nbformat": 4,
 "nbformat_minor": 5
}
