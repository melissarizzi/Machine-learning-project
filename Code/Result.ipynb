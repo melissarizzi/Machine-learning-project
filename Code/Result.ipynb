{
 "cells": [
  {
   "cell_type": "code",
   "execution_count": 1,
   "id": "8fe4bc1d-ce37-4245-aac8-ee6f2752ac06",
   "metadata": {},
   "outputs": [],
   "source": [
    "import pandas as pd\n",
    "import numpy as np\n",
    "import matplotlib.pyplot as plt\n",
    "import seaborn as sns"
   ]
  },
  {
   "cell_type": "code",
   "execution_count": 2,
   "id": "c62c6ece-3977-4e97-8a96-a08f4f8e10ce",
   "metadata": {},
   "outputs": [],
   "source": [
    "path = \"\\\\Users\\\\melis\\\\Desktop\\\\universita\\\\DSE\\\\1 ANNO\\\\3 TRIMESTRE\\\\machine learning\\\\project\\\\your_dataset.csv\""
   ]
  },
  {
   "cell_type": "code",
   "execution_count": 3,
   "id": "94a18d5f-d83e-4464-a4a8-fffcca70251f",
   "metadata": {},
   "outputs": [],
   "source": [
    "from Project import preprocessing"
   ]
  },
  {
   "cell_type": "code",
   "execution_count": 4,
   "id": "d44964ae-7050-44ac-a13b-3e59f2efc963",
   "metadata": {},
   "outputs": [],
   "source": [
    "pre = preprocessing(path)"
   ]
  },
  {
   "cell_type": "code",
   "execution_count": 5,
   "id": "eb1e6517-3273-467f-b4c4-20287bd14892",
   "metadata": {},
   "outputs": [],
   "source": [
    "pre.check_missing_value()"
   ]
  },
  {
   "cell_type": "code",
   "execution_count": 6,
   "id": "1084bd4a-7dcb-4e62-a8c2-4be3628a81b9",
   "metadata": {},
   "outputs": [
    {
     "data": {
      "text/plain": [
       "x1     0\n",
       "x2     0\n",
       "x3     0\n",
       "x4     0\n",
       "x5     0\n",
       "x6     0\n",
       "x7     0\n",
       "x8     0\n",
       "x9     0\n",
       "x10    0\n",
       "y      0\n",
       "dtype: int64"
      ]
     },
     "execution_count": 6,
     "metadata": {},
     "output_type": "execute_result"
    }
   ],
   "source": [
    "pre.n_missing"
   ]
  },
  {
   "cell_type": "code",
   "execution_count": null,
   "id": "f3ece2fb-42bd-417c-9bd5-2d318e41b6ca",
   "metadata": {},
   "outputs": [],
   "source": []
  }
 ],
 "metadata": {
  "kernelspec": {
   "display_name": "Python 3 (ipykernel)",
   "language": "python",
   "name": "python3"
  },
  "language_info": {
   "codemirror_mode": {
    "name": "ipython",
    "version": 3
   },
   "file_extension": ".py",
   "mimetype": "text/x-python",
   "name": "python",
   "nbconvert_exporter": "python",
   "pygments_lexer": "ipython3",
   "version": "3.10.4"
  }
 },
 "nbformat": 4,
 "nbformat_minor": 5
}
